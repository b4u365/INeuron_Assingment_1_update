{
 "cells": [
  {
   "cell_type": "markdown",
   "id": "90279005",
   "metadata": {},
   "source": [
    "1. In the below elements which of them are values or an expression? eg:- values can be integer or string and expressions will be mathematical operators.\n",
    "\n",
    "* \n",
    "'hello'\n",
    "-87.8\n",
    "- \n",
    "/ \n",
    "+\t\n",
    "6 "
   ]
  },
  {
   "cell_type": "markdown",
   "id": "addc7318",
   "metadata": {},
   "source": [
    "<font color=\"blue\">\n",
    "\n",
    "**Ans:**\n",
    "    \n",
    "Values:\n",
    "\n",
    "'hello' (string value) \n",
    "    \n",
    "-87.8 (floating-point number value)\n",
    "       \n",
    " 6 (integer value)\n",
    "       \n",
    "Expressions (mathematical operators):\n",
    "\n",
    "'-'\n",
    "    \n",
    "'*'\n",
    "    \n",
    "'/'\n",
    "    \n",
    "    \n",
    "'+'\n",
    "    \n",
    "    \n",
    "The elements '*', '-', '/', and '+' are mathematical operators, which are used in expressions to perform operations on values. The values themselves are 'hello', -87.8, and 6.\n",
    "    \n",
    "\n",
    "   "
   ]
  },
  {
   "cell_type": "code",
   "execution_count": 6,
   "id": "514a3e37",
   "metadata": {},
   "outputs": [
    {
     "name": "stdout",
     "output_type": "stream",
     "text": [
      "10 + 5 = 15\n",
      "10 - 5 = 5\n",
      "10 * 5 = 50\n",
      "10 / 5 = 2.0\n"
     ]
    }
   ],
   "source": [
    "#example of operators:\n",
    "a=10\n",
    "b=5\n",
    "add = a+b\n",
    "subtract =a-b\n",
    "multiply =a*b\n",
    "divide =a/b\n",
    "print(f\"{a} + {b} = {add}\")\n",
    "print(f\"{a} - {b} = {subtract}\")\n",
    "print(f\"{a} * {b} = {multiply}\")\n",
    "print(f\"{a} / {b} = {divide}\")"
   ]
  },
  {
   "cell_type": "markdown",
   "id": "f9994a4c",
   "metadata": {},
   "source": [
    "2. What is the difference between string and variable?"
   ]
  },
  {
   "cell_type": "markdown",
   "id": "ef8de2fa",
   "metadata": {},
   "source": [
    "<font color=\"blue\">\n",
    "    \n",
    "**Ans:**\n",
    "    \n",
    "Variable is like a container where the value of a data type can be stored with a specific name, data type can be string  or integer or float.  \n",
    "String is a data type which consists of sequence of characters in quotes, strings store the sequence of characters in text these are immutable, meaning string contents cannot be changed after string creation as the memory of string  are stored as bundle and cannot be altered.\n"
   ]
  },
  {
   "cell_type": "code",
   "execution_count": 11,
   "id": "bc642a86",
   "metadata": {},
   "outputs": [
    {
     "name": "stdout",
     "output_type": "stream",
     "text": [
      "original a :[1, 2, 3]\n",
      "modifed a :[1, 55, 3]\n",
      "original b  :Bharath\n"
     ]
    }
   ],
   "source": [
    "a=[1, 2, 3] # a is variable where the list [1,2,3] is saved\n",
    "print(f\"original a :{a}\")\n",
    "a[1]=55 #2nd element is replaced with 55\n",
    "print(f\"modifed a :{a}\")\n",
    "b=\"Bharath\" # b is variable where \"Bharath\" is a string saved in variable\n",
    "print(f\"original b  :{b}\")"
   ]
  },
  {
   "cell_type": "code",
   "execution_count": 13,
   "id": "56a18e9b",
   "metadata": {},
   "outputs": [
    {
     "ename": "TypeError",
     "evalue": "'str' object does not support item assignment",
     "output_type": "error",
     "traceback": [
      "\u001b[1;31m---------------------------------------------------------------------------\u001b[0m",
      "\u001b[1;31mTypeError\u001b[0m                                 Traceback (most recent call last)",
      "Cell \u001b[1;32mIn[13], line 1\u001b[0m\n\u001b[1;32m----> 1\u001b[0m b[\u001b[38;5;241m1\u001b[39m]\u001b[38;5;241m=\u001b[39m\u001b[38;5;124m\"\u001b[39m\u001b[38;5;124mj\u001b[39m\u001b[38;5;124m\"\u001b[39m\n",
      "\u001b[1;31mTypeError\u001b[0m: 'str' object does not support item assignment"
     ]
    }
   ],
   "source": [
    "b[1]=\"j\"# as we  can see from result string charates cannot be changed as in list"
   ]
  },
  {
   "cell_type": "markdown",
   "id": "1804dfcb",
   "metadata": {},
   "source": [
    "3. Describe three different data types."
   ]
  },
  {
   "cell_type": "markdown",
   "id": "368269dd",
   "metadata": {},
   "source": [
    "<font color=\"blue\">\n",
    "    \n",
    "**Ans:**\n",
    "    \n",
    "\n",
    "int: Integer data type for whole numbers (e.g., 5, -10, 0).\n",
    "    \n",
    "    \n",
    "float: Floating-point data type for numbers with a fractional part (e.g., 3.14, -2.5).\n",
    "    \n",
    "    \n",
    "str: String data type for sequences of characters, representing text (e.g., \"hello\", 'world',”123”).\n"
   ]
  },
  {
   "cell_type": "markdown",
   "id": "1c6d362d",
   "metadata": {},
   "source": [
    "4. What is an expression made up of? What do all expressions do?"
   ]
  },
  {
   "cell_type": "markdown",
   "id": "db078a23",
   "metadata": {},
   "source": [
    "<font color=\"blue\">\n",
    "    \n",
    "**Ans:**\n",
    "\n",
    "An expression is a combination of values, variables, operators, and/or function calls that can be evaluated to produce a single value. Expressions are the building blocks of programming and mathematics, and they represent computations or operations that are carried out within a programming language or mathematical context."
   ]
  },
  {
   "cell_type": "code",
   "execution_count": 19,
   "id": "b9603787",
   "metadata": {},
   "outputs": [
    {
     "name": "stdout",
     "output_type": "stream",
     "text": [
      "11\n"
     ]
    },
    {
     "data": {
      "text/plain": [
       "False"
      ]
     },
     "execution_count": 19,
     "metadata": {},
     "output_type": "execute_result"
    }
   ],
   "source": [
    "#Examples of expressions\n",
    "\n",
    "a=5 + 3 * 2\n",
    "print(a)\n",
    "\n",
    "age=15\n",
    "age >= 18\n"
   ]
  },
  {
   "cell_type": "markdown",
   "id": "067959a2",
   "metadata": {},
   "source": [
    "5. This assignment statements, like spam = 10. What is the difference between an expression and a statement?"
   ]
  },
  {
   "cell_type": "markdown",
   "id": "3a6f2b79",
   "metadata": {},
   "source": [
    "<font color=\"blue\">\n",
    "\n",
    "**Ans:**\n",
    "    \n",
    "\n",
    "\n",
    "An expression is a combination of variables, operators that results in a single value(5 + 3  )\n",
    "Statements are used to perform logical instruction which can perform part of code or complete code\n",
    "    \n",
    "    \n",
    "Expression Examples:\n",
    "\n",
    "5 + 3 (evaluates to 8)\n",
    "    \n",
    "x * y (evaluates to the product of x and y)\n",
    "    \n",
    "len(\"hello\") (evaluates to the length of the string \"hello\")\n",
    "    \n",
    "True (evaluates to the boolean value True)\n",
    "    \n",
    "Statement Examples:\n",
    "\n",
    "spam = 10 (assignment statement)\n",
    "    \n",
    "if x > 0: ... (if statement for conditional execution)\n",
    "    \n",
    "for item in list: ... (looping statement)\n",
    "    \n",
    "print(\"Hello, world!\") (function call statement to print)\n"
   ]
  },
  {
   "cell_type": "markdown",
   "id": "9b27345d",
   "metadata": {},
   "source": [
    "6. After running the following code, what does the variable bacon contain?\n",
    "bacon = 22\n",
    "bacon + 1"
   ]
  },
  {
   "cell_type": "code",
   "execution_count": 9,
   "id": "35611f5c",
   "metadata": {},
   "outputs": [
    {
     "data": {
      "text/plain": [
       "22"
      ]
     },
     "execution_count": 9,
     "metadata": {},
     "output_type": "execute_result"
    }
   ],
   "source": [
    "\n",
    "bacon = 22\n",
    "bacon + 1 # here bacon+1 will become 23\n",
    "bacon # here bacon is still 22 as bacon +1 was not assinged to bacon"
   ]
  },
  {
   "cell_type": "markdown",
   "id": "a28e7f4d",
   "metadata": {},
   "source": [
    "7. What should the values of the following two terms be?\n",
    "   "
   ]
  },
  {
   "cell_type": "code",
   "execution_count": 2,
   "id": "c51cd516",
   "metadata": {},
   "outputs": [
    {
     "data": {
      "text/plain": [
       "'spamspamspam'"
      ]
     },
     "execution_count": 2,
     "metadata": {},
     "output_type": "execute_result"
    }
   ],
   "source": [
    "'spam' + 'spamspam' \n"
   ]
  },
  {
   "cell_type": "code",
   "execution_count": 3,
   "id": "de3cf8ad",
   "metadata": {},
   "outputs": [
    {
     "data": {
      "text/plain": [
       "'spamspamspam'"
      ]
     },
     "execution_count": 3,
     "metadata": {},
     "output_type": "execute_result"
    }
   ],
   "source": [
    "'spam' * 3"
   ]
  },
  {
   "cell_type": "markdown",
   "id": "2e71e328",
   "metadata": {},
   "source": [
    "8. Why is eggs a valid variable name while 100 is invalid?"
   ]
  },
  {
   "cell_type": "markdown",
   "id": "3deea891",
   "metadata": {},
   "source": [
    "<font color=\"blue\">\n",
    "\n",
    "**Ans:**\n",
    "\n",
    "variables names never start with number as per its definition, so 100  variable will be a invalid name for variable\n"
   ]
  },
  {
   "cell_type": "code",
   "execution_count": 20,
   "id": "d069b051",
   "metadata": {},
   "outputs": [
    {
     "name": "stdout",
     "output_type": "stream",
     "text": [
      "no eggs are : 100\n"
     ]
    }
   ],
   "source": [
    "egg=100\n",
    "print(f\"no eggs are : {egg}\")"
   ]
  },
  {
   "cell_type": "code",
   "execution_count": 31,
   "id": "4cfc077c",
   "metadata": {},
   "outputs": [
    {
     "ename": "SyntaxError",
     "evalue": "cannot assign to literal here. Maybe you meant '==' instead of '='? (3362505004.py, line 1)",
     "output_type": "error",
     "traceback": [
      "\u001b[1;36m  Cell \u001b[1;32mIn[31], line 1\u001b[1;36m\u001b[0m\n\u001b[1;33m    100=eggs\u001b[0m\n\u001b[1;37m    ^\u001b[0m\n\u001b[1;31mSyntaxError\u001b[0m\u001b[1;31m:\u001b[0m cannot assign to literal here. Maybe you meant '==' instead of '='?\n"
     ]
    }
   ],
   "source": [
    "100=eggs\n",
    "print(f\"{100} eggs\")"
   ]
  },
  {
   "cell_type": "markdown",
   "id": "8c4807c4",
   "metadata": {},
   "source": [
    "9. What three functions can be used to get the integer, floating-point number, or string version of a value?\n"
   ]
  },
  {
   "cell_type": "markdown",
   "id": "713810df",
   "metadata": {},
   "source": [
    "<font color=\"blue\">\n",
    "\n",
    "**Ans:**\n",
    "    \n",
    "Integer Conversion:\n",
    "\n",
    "Function: int()\n",
    "Description: Converts a value to an integer type.\n",
    "Example: int(\"42\") would convert the string \"42\" to the integer 42.\n",
    "Floating-Point Conversion:\n",
    "\n",
    "Function: float()\n",
    "Description: Converts a value to a floating-point number type.\n",
    "Example: float(\"3.14\") would convert the string \"3.14\" to the floating-point number 3.14.\n",
    "String Conversion:\n",
    "\n",
    "Function: str()\n",
    "Description: Converts a value to its string representation.\n",
    "Example: str(42) would convert the integer 42 to the string \"42\"."
   ]
  },
  {
   "cell_type": "markdown",
   "id": "bd4838fa",
   "metadata": {},
   "source": [
    "10. Why does this expression cause an error? How can you fix it?"
   ]
  },
  {
   "cell_type": "code",
   "execution_count": 10,
   "id": "06f5d636",
   "metadata": {},
   "outputs": [
    {
     "ename": "TypeError",
     "evalue": "can only concatenate str (not \"int\") to str",
     "output_type": "error",
     "traceback": [
      "\u001b[1;31m---------------------------------------------------------------------------\u001b[0m",
      "\u001b[1;31mTypeError\u001b[0m                                 Traceback (most recent call last)",
      "Cell \u001b[1;32mIn[10], line 1\u001b[0m\n\u001b[1;32m----> 1\u001b[0m \u001b[38;5;124;43m'\u001b[39;49m\u001b[38;5;124;43mI have eaten \u001b[39;49m\u001b[38;5;124;43m'\u001b[39;49m\u001b[43m \u001b[49m\u001b[38;5;241;43m+\u001b[39;49m\u001b[43m \u001b[49m\u001b[38;5;241;43m99\u001b[39;49m \u001b[38;5;241m+\u001b[39m \u001b[38;5;124m'\u001b[39m\u001b[38;5;124m burritos.\u001b[39m\u001b[38;5;124m'\u001b[39m\n",
      "\u001b[1;31mTypeError\u001b[0m: can only concatenate str (not \"int\") to str"
     ]
    }
   ],
   "source": [
    "'I have eaten ' + 99 + ' burritos.'"
   ]
  },
  {
   "cell_type": "markdown",
   "id": "537ec1c2",
   "metadata": {},
   "source": [
    "<font color=\"blue\">\n",
    "\n",
    "**Ans:**\n",
    "\n",
    " Here 'I have eaten ' and ' burritos.' are strings which cannot be concatenated with integers which create data type error, correction for this is :"
   ]
  },
  {
   "cell_type": "code",
   "execution_count": 11,
   "id": "0b03fbef",
   "metadata": {},
   "outputs": [
    {
     "data": {
      "text/plain": [
       "'I have eaten 99 burritos.'"
      ]
     },
     "execution_count": 11,
     "metadata": {},
     "output_type": "execute_result"
    }
   ],
   "source": [
    "'I have eaten ' + '99' + ' burritos.'"
   ]
  }
 ],
 "metadata": {
  "kernelspec": {
   "display_name": "Python 3 (ipykernel)",
   "language": "python",
   "name": "python3"
  },
  "language_info": {
   "codemirror_mode": {
    "name": "ipython",
    "version": 3
   },
   "file_extension": ".py",
   "mimetype": "text/x-python",
   "name": "python",
   "nbconvert_exporter": "python",
   "pygments_lexer": "ipython3",
   "version": "3.10.9"
  }
 },
 "nbformat": 4,
 "nbformat_minor": 5
}
